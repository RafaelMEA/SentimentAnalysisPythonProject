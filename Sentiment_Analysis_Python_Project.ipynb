{
 "cells": [
  {
   "cell_type": "code",
   "execution_count": 10,
   "id": "3c929b5f-5cb2-45ea-a819-c1980d97db14",
   "metadata": {},
   "outputs": [
    {
     "name": "stderr",
     "output_type": "stream",
     "text": [
      "[nltk_data] Downloading package movie_reviews to\n",
      "[nltk_data]     C:\\Users\\TOSHIBA\\AppData\\Roaming\\nltk_data...\n",
      "[nltk_data]   Package movie_reviews is already up-to-date!\n"
     ]
    },
    {
     "name": "stdout",
     "output_type": "stream",
     "text": [
      "Accuracy: 0.836\n",
      "Review: This movie was excellent! -> Sentiment: Positive\n",
      "Review: The acting was awful. -> Sentiment: Negative\n"
     ]
    }
   ],
   "source": [
    "import nltk\n",
    "nltk.download('movie_reviews')\n",
    "from nltk.corpus import movie_reviews\n",
    "from sklearn.feature_extraction.text import TfidfVectorizer\n",
    "from sklearn.model_selection import train_test_split\n",
    "from sklearn.svm import SVC\n",
    "from sklearn.metrics import accuracy_score\n",
    "\n",
    "# Load movie reviews from NLTK corpus\n",
    "documents = [(list(movie_reviews.words(fileid)), category)\n",
    "             for category in movie_reviews.categories()\n",
    "             for fileid in movie_reviews.fileids(category)]\n",
    "\n",
    "# Prepare the data for SVM\n",
    "reviews = [' '.join(words) for words, category in documents]\n",
    "labels = [category for words, category in documents]\n",
    "\n",
    "# Split data into training and test sets\n",
    "X_train, X_test, y_train, y_test = train_test_split(reviews, labels, test_size=0.25, random_state=42)\n",
    "\n",
    "# Initialize TF-IDF vectorizer\n",
    "vectorizer = TfidfVectorizer(min_df=5, max_df=0.8, ngram_range=(1, 3))\n",
    "\n",
    "# Transform the training and test data\n",
    "X_train_tfidf = vectorizer.fit_transform(X_train)\n",
    "X_test_tfidf = vectorizer.transform(X_test)\n",
    "\n",
    "# Initialize and train the Support Vector Machine (SVM) classifier\n",
    "svm_classifier = SVC(kernel='linear')\n",
    "svm_classifier.fit(X_train_tfidf, y_train)\n",
    "\n",
    "# Test the classifier\n",
    "y_pred = svm_classifier.predict(X_test_tfidf)\n",
    "accuracy = accuracy_score(y_test, y_pred)\n",
    "print(\"Accuracy:\", accuracy)\n",
    "\n",
    "# Make predictions on new reviews\n",
    "new_reviews = [\"This movie was excellent!\",\n",
    "               \"The acting was awful.\"]\n",
    "new_reviews_tfidf = vectorizer.transform(new_reviews)\n",
    "predictions = svm_classifier.predict(new_reviews_tfidf)\n",
    "for review, prediction in zip(new_reviews, predictions):\n",
    "    sentiment = 'Positive' if prediction == 'pos' else 'Negative'\n",
    "    print(f\"Review: {review} -> Sentiment: {sentiment}\")\n",
    "\n",
    "#This code analyzes IMDb movie reviews to detect their positive or negative tones. It starts by fetching reviews sorted as positive and negative from NLTK's 'movie_reviews' dataset. These reviews are then processed into understandable text strings, paired with their respective sentiments.\n",
    "#The data is split into training and testing sets for model assessment. To handle words efficiently, it converts them into numerical forms using TF-IDF, capturing word importance in reviews.\n",
    "#The Support Vector Machine (SVM) model is then set up and trained using the transformed training data. It evaluates the model's accuracy on the test data.\n",
    "#Finally, the trained model is used to assess new, unseen reviews. These new reviews are converted into numerical representations using TF-IDF, allowing the SVM to predict their sentiment—positive or negative—based on its training. This process gauges the model's ability to understand and categorize sentiments in reviews."
   ]
  },
  {
   "cell_type": "code",
   "execution_count": null,
   "id": "2c14e387-e386-48eb-b8af-3543fac99933",
   "metadata": {},
   "outputs": [],
   "source": []
  }
 ],
 "metadata": {
  "kernelspec": {
   "display_name": "Python 3 (ipykernel)",
   "language": "python",
   "name": "python3"
  },
  "language_info": {
   "codemirror_mode": {
    "name": "ipython",
    "version": 3
   },
   "file_extension": ".py",
   "mimetype": "text/x-python",
   "name": "python",
   "nbconvert_exporter": "python",
   "pygments_lexer": "ipython3",
   "version": "3.11.2"
  }
 },
 "nbformat": 4,
 "nbformat_minor": 5
}
